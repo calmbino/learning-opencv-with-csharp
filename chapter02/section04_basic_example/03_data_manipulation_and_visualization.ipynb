{
 "cells": [
  {
   "cell_type": "markdown",
   "metadata": {},
   "source": [
    "# 03) 데이터 조작 및 시각화"
   ]
  },
  {
   "cell_type": "code",
   "execution_count": null,
   "metadata": {
    "dotnet_interactive": {
     "language": "csharp"
    },
    "polyglot_notebook": {
     "kernelName": "csharp"
    },
    "vscode": {
     "languageId": "polyglot-notebook"
    }
   },
   "outputs": [],
   "source": [
    "#r \"nuget: OpenCvSharp4\"\n",
    "#r \"nuget: OpenCvSharp4.runtime.win\"\n",
    "\n",
    "using OpenCvSharp;"
   ]
  },
  {
   "cell_type": "markdown",
   "metadata": {},
   "source": [
    "### # 이미지 연결\n",
    "\n",
    "- 여러 다른 이미지를 결합해 하나의 통합 이미지를 생성하는 기술\n",
    "- 사용 목적\n",
    "    - 서로 다른 이미지를 합쳐서 하나의 이미를 생성\n",
    "    - 알고리즘이 적용되기 전과 후의 이미지를 상호 비교\n",
    "- 이미지를 연결하기 위한 조건\n",
    "    - 동일한 `채널 수`와 `정밀도`\n",
    "    - 동일한 이미지 `크기`\n",
    "\n",
    "- ```csharp\n",
    "  Cv2.HConcat(Mat[] src, Mat dst) // 수평 이미지 연결 함수\n",
    "  Cv2.VConcat(Mat[] src, Mat dst) // 수직 이미지 연결 함수\n",
    "  ```\n",
    "    - `src`: 입력 이미지\n",
    "        - **수평** 이미지 연결 함수는 입력된 이미지들이 **동일한 행(높이)** 을 가져야 함\n",
    "        - **수직** 이미지 연결 함수는 입력된 이미지들이 **동일한 열(너비)** 를 가져야 함\n",
    "    - `dst`: 출력 이미지지\n",
    "        - 원본 이미지와 동일한 채널 수, 정밀도를 유지\n",
    "        - 원본 이미지들의 행 또는 열의 합계를 가지는 이미지\n",
    "\n"
   ]
  },
  {
   "cell_type": "code",
   "execution_count": null,
   "metadata": {
    "vscode": {
     "languageId": "polyglot-notebook"
    }
   },
   "outputs": [],
   "source": [
    "Mat one = new Mat(\"../../media/one.jpg\");\n",
    "Mat two = new Mat(\"../../media/two.jpg\");\n",
    "Mat three = new Mat(\"../../media/three.jpg\");\n",
    "Mat four = new Mat(\"../../media/four.jpg\");\n",
    "\n",
    "Mat left = new Mat();\n",
    "Mat right = new Mat();\n",
    "Mat dst = new Mat();\n",
    "\n",
    "Cv2.VConcat(new Mat[] { one, three }, left);\n",
    "Cv2.VConcat(new Mat[] { two, four }, right);\n",
    "Cv2.HConcat(new Mat[] { left, right }, dst);\n",
    "\n",
    "Cv2.NamedWindow(\"dst\", WindowFlags.KeepRatio);\n",
    "Cv2.ImShow(\"dst\", dst);\n",
    "Cv2.WaitKey(0);\n",
    "Cv2.DestroyAllWindows();"
   ]
  },
  {
   "cell_type": "markdown",
   "metadata": {},
   "source": [
    "### # 도형 그리기\n",
    "\n",
    "- 영상이나 이미지에 그래픽 요소를 그려 넣는 프로세스\n",
    "    - 주로 검출 결과를 시각적으로 `표시`하거나 `강조`하는 데 사용\n",
    "    - 이미지상에 검출된 결과를 `수정`하거나 `보정`\n",
    "- 이미지상에 다양한 도형을 그리는 것이 가능\n",
    "    - 이미지가 아닌 배열이어도 가능\n",
    "- 도형이나 선 등을 그릴 때 위치, 두께, 색상과 같은 속성 제어 가능\n",
    "    - 선형 타입 및 비트 시프트와 같은 보다 디테일한 속성도 존재\n",
    "        - 그래픽 요소의 스타일 및 시각적인 효과를 조정하는데 사용용\n",
    "        - `선형 타입`\n",
    "            - 도형을 그릴 때 **어떤 유형의 선**으로 그릴 것인가?\n",
    "                - `브레젠험 알고리즘(Bresenham's Algorithm)`\n",
    "                    - 컴퓨터 그래픽 분야에서 개발된 최초의 알고리즘 중 하나\n",
    "                    - 실수 연산이 아닌 정수 연산으로 대체하기 위한 알고리즘\n",
    "                        - 이미지는 정숫값의 좌표로 구성된 픽셀 행렬로 표현되기 때문에 필요\n",
    "                    - \"4-연결\"\n",
    "                        - 상 || 하 || 좌 || 우 픽셀 배치 고려\n",
    "                    - \"8-연결'\n",
    "                        - 대각선 방향까지 고려\n",
    "                - `안티 에일리어싱(Anti-Aliasing)`\n",
    "                    - 높은 해상도의 신호를 낮은 해상도에서 표현할 때 발생하는 `계단 현상을 제거하는 기법`\n",
    "                    - 주고 가우스 필터링을 사용\n",
    "                    - 시각적으로 부드러운 가장자리 또는 경계를 얻음\n",
    "                - 내부 채우기 방식\n",
    "        - `비트 시프트`\n",
    "            - 소수점 이하의 값이 포함된 **실수 좌표를 사용**\n",
    "                일반적으로 도형 그리기 함수에서 사용되는 좌표값은 정수로 표현현\n",
    "            - `서브 픽셀`\n",
    "                - 픽셀 내에서 더 작은 공간을 나누어 소수점 이하의 값을 표현\n",
    "            - `오른쪽 시프트 연산`을 사용!\n",
    "                - $$\n",
    "                  0100_2 \\gg 1 = 0010_2\n",
    "                  $$"
   ]
  },
  {
   "cell_type": "markdown",
   "metadata": {},
   "source": [
    "- `직선 그리기`\n",
    "    - 이미지나 영상 위에 단순한 선을 그리는데 사용\n",
    "    - 어디에 활용되는가?\n",
    "        - 두 점을 연결해 그림자, 경계, 객체 윤곽 등을 표시\n",
    "        - 이미지의 특정 영역을 보정\n",
    "    - ```csharp\n",
    "      Cv2.Line(\n",
    "        Mat img,\n",
    "        Point pt1,\n",
    "        Point pt2,\n",
    "        Scalar color,\n",
    "        int thickness = 1,\n",
    "        LineType lineType = LineTypes.Link8,\n",
    "        int shift = 0\n",
    "      )\n",
    "      ```\n",
    "        - 이미지 위에 `시작 좌표(pt1)부터 도착 좌표(pt2)`까지의 직선\n",
    "        - 색상은 BGR 형식\n",
    "        - `shift`는 실수값으로 처리할 좌표(pt)의 비트 값을 할당\n",
    "        - 포인트 구조체가 아닌 정수형을 활용하는 것도 가능\n",
    "            - ex) int pt1X, int pt1Y, int pt2X, int pt2Y   "
   ]
  },
  {
   "cell_type": "markdown",
   "metadata": {},
   "source": [
    "- `사각형 그리기`\n",
    "    - 이미지나 영상 위에 단순한 사각형을 그리는데 사용\n",
    "    - 어디에 활용되는가?\n",
    "        - 관심 영역이나 검출된 결과를 사용자가 인식하기 쉽게 시각적으로 표시\n",
    "    - ```csharp\n",
    "      Cv2.Rectangle(\n",
    "        Mat img,\n",
    "        Point pt1,\n",
    "        Point pt2,\n",
    "        Scalar color,\n",
    "        int thickness = 1,\n",
    "        LineType lineType = LineTypes.Link8,\n",
    "        int shift = 0\n",
    "      )\n",
    "      ```\n",
    "        - 이미지 위에 `좌측 상단 모서리 좌표(pt1)부터 우측 하단 모서리 좌표(pt2)`까지의 직사각형\n",
    "        - 색상은 BGR 형식\n",
    "        - 포인트 구조체가 아닌 직사각형 구조체를 활용하는 것도 가능\n",
    "            - ex) Rect rect"
   ]
  },
  {
   "cell_type": "markdown",
   "metadata": {},
   "source": []
  },
  {
   "cell_type": "markdown",
   "metadata": {},
   "source": [
    "- `원 그리기`\n",
    "    - 이미지나 영상 위에 단순한 원을 그리는데 사용\n",
    "    - 어디에 활용되는가?\n",
    "        - 검출된 좌표값을 시각적으로 표시\n",
    "        - 객체의 중심 위치나 특정 관심점을 나타내 위해 사용\n",
    "    - ```csharp\n",
    "      Cv2.Circle(\n",
    "        Mat img,\n",
    "        Point center,\n",
    "        int radius,\n",
    "        Scalar color,\n",
    "        int thickness = 1,\n",
    "        LineType lineType = LineTypes.Link8,\n",
    "        int shift = 0\n",
    "      )\n",
    "      ```\n",
    "    - `원의 중심(center)으로부터 반지름(radius) 크기`를 갖는 원\n",
    "    - 비트 시프트(shift)는 실숫값으로 처리할 중심점과 반지름의 비트 값을 할당\n",
    "    - 중심점을 포인트 구조체가 아닌 정수형을 활용해 지정 간으\n",
    "      - ex) int centerX, int centerY"
   ]
  },
  {
   "cell_type": "markdown",
   "metadata": {},
   "source": [
    "- `호 그리기`\n",
    "    - 이미지 영상 위에 단순한 호나 타원을 그리는데 사용\n",
    "    - 어디에 활용되는가?\n",
    "        - 검출된 타원을 시각화\n",
    "        - 타원 객체의 부정확한 영역을 보정하기 위해 활용\n",
    "    - ```csharp\n",
    "      Cv2.Ellipse(\n",
    "        Mat img,\n",
    "        Point center,\n",
    "        Size axes,\n",
    "        double angle,\n",
    "        double startAngle,\n",
    "        double endAngle,\n",
    "        Scalar color,\n",
    "        int thickness = 1,\n",
    "        LineType lineType = LineTypes.Link8,\n",
    "        int shift = 0\n",
    "      )\n",
    "      ```\n",
    "    - 이미지 위에 `원의 중심(center)으로부터 장축과 단축(asex) 크기`를 갖는 호\n",
    "      - axes.width : 장축\n",
    "      - axes.height: 단축축\n",
    "    - `각도(angle)`는 장축이 기울어진 각도\n",
    "    - `시작 각도(startAngle)`와 `도착 각도(endAngle)`를 설정해 호의 형태를 구성\n",
    "    - 비트 시프트(shift)는 실숫값으로 처리할 중심점(center)과 장축 및 단축(axes)의 비트 값을 할당\n",
    "    - 중심점(center)과 장축 및 단축(axes)을 포인트 구조체와 사이즈 구조체가 아닌, 회전 직사각형 구조체를 활용 가능\n",
    "      - ex) RotatedRect box\n",
    "    - ![Image](https://github.com/user-attachments/assets/67b8fb71-672a-4b97-8c6e-28e4ac0eed17)"
   ]
  },
  {
   "cell_type": "markdown",
   "metadata": {},
   "source": [
    "- `내부가 채워지지 않은 다각형 그리기`\n",
    "    - 이미지나 영상 위에 여러 개의 다각형 곡선을 그리는 도구\n",
    "    - 어디에 활용되는가?\n",
    "        - 복잡한 형상의 다각형을 시각화\n",
    "        - 검출된 윤곽선의 일부를 시각적으로 확인\n",
    "        - ex) 지도상의 지역, 경계, 도형 등 지리 공간 데이터를 시각적으로 표시\n",
    "    - ```csharp\n",
    "      Cv2.Polylines(\n",
    "        Mat img,\n",
    "        IEnumerable<IEnumerable<Point>> pts,\n",
    "        bool isClosed,\n",
    "        Scalar color,\n",
    "        int thickness = 1,\n",
    "        LineType lineType = LineTypes.Link8,\n",
    "        int shift = 0\n",
    "      )\n",
    "      ```\n",
    "    - `이미지(img) 위에 선들의 묶음(pts)`으로 이뤄진 N개의 내부가 채워지지 않은 다각형\n",
    "    - `닫힘 여부(isClosed)`를 설정해 처음 좌표와 마지막 좌표의 연결 여부를 설정\n",
    "    - 비트 시프트(shift)는 실수값으로 처리할 좌표(pt)의 비트 값을 할당\n",
    "    - N개의 다각형을 한 번에 그리는 것이 가능\n",
    "      - **한 개의 다각형을 그리기 위해서는 점들이 의미 있는 순서로 배치된 2차원 배열이 필요**\n",
    "      - N개의 다각형을 그리기 위해서는 2차원 배열을 N개의 형태로 구성 == 3차원 형태를 띄는 배열이 필요\n",
    "      - 제네릭 컬렉션을 활요앻 포인트 구조체를 묶어 하나의 다각형 구조를 생성하고, 묶어진 포인트 구조체들을 다시 한 번 묶어서 3차원 형태로 구성성"
   ]
  },
  {
   "cell_type": "markdown",
   "metadata": {},
   "source": [
    "- `내부가 채워진 다각형 그리기`\n",
    "    - 이미지나 영상 위에 내부가 채워진 여러 개의 다각형 곡선을 그리는 도구\n",
    "    - 어디에 활용되는가?\n",
    "        - 복잡한 형상의 다각형을 시각화\n",
    "        - 검출된 결과를 이미지 위에 덮어 씌울 때 사용\n",
    "        - ex) 데이터의 영역이나 지리적 분포, 패턴 등으로 표시시\n",
    "    - ```csharp\n",
    "      Cv2.FillPoly(\n",
    "        Mat img,\n",
    "        IEnumerable<IEnumerable<Point>> pts,\n",
    "        Scalar color,\n",
    "        int thickness = 1,\n",
    "        LineType lineType = LineTypes.Link8,\n",
    "        int shift = 0\n",
    "      )\n",
    "      ```\n",
    "    - `이미지(img) 위에 선들의 묶음(pts)`으로 이뤄진 N개의 내부가 채워진 다각형\n",
    "    - 비트 시프트(shift)는 실숫값으로 처리할 좌표(pt)의 비트 값을 할당"
   ]
  },
  {
   "cell_type": "markdown",
   "metadata": {},
   "source": [
    "- `문자 그리기`\n",
    "    - 이미지나 영상 위에 문자 또는 텍스트를 시각적으로 표시\n",
    "    - 어디에 활용되는가?\n",
    "        - 검출된 결과에 시각적인 레이블 표시\n",
    "    - 이미지에 텍스트를 입력하는 것이 아닌, 이미지상에 `문자를 그림으로써 시각화 하는 방식`\n",
    "    - ```csharp\n",
    "      Cv2.PutText(\n",
    "        Mat img,\n",
    "        string text,\n",
    "        Point org,\n",
    "        HersheyFonts fontFace,\n",
    "        double fontScale,\n",
    "        Scalar color,\n",
    "        int thickness = 1,\n",
    "        LineType lineType = LineTypes.Link8,\n",
    "        int shift = 0,\n",
    "        bool bottomLeftOrigin = false\n",
    "      )\n",
    "      ```\n",
    "    - `이미지(img) 위에 문자열(text)을 텍스트 박스의 좌측 상단 모서리(org)를 기준`으로 그림\n",
    "    - 텍스트를 그리기 위해 `글꼴(fontFace)`과 `글자 크기(fontScale)`를 설정\n",
    "    - `기준 좌표(bottomLeftOrigin)`로 텍스트 박스 좌측 상단 모서리가 아닌 텍스트 박스 좌측 하단 모서리로 사용하는 것이 가능\n"
   ]
  },
  {
   "cell_type": "code",
   "execution_count": null,
   "metadata": {
    "vscode": {
     "languageId": "polyglot-notebook"
    }
   },
   "outputs": [],
   "source": [
    "Mat img = new Mat(new Size(1366, 768), MatType.CV_8UC3);\n",
    "\n",
    "// 선 그리기\n",
    "Cv2.Line(img, new Point(100, 100), new Point(1200, 100), new Scalar(0, 0, 255), 3, LineTypes.AntiAlias);\n",
    "// 원 그리기\n",
    "Cv2.Circle(img, new Point(300, 300), 50, new Scalar(0, 255, 0), Cv2.FILLED, LineTypes.Link4);\n",
    "// 직사각형 그리기\n",
    "Cv2.Rectangle(img, new Point(500,200), new Point(1000,400), new Scalar(255, 0, 0), 5);\n",
    "// 타원 그리기\n",
    "Cv2.Ellipse(img, new Point(1200, 300), new Size(100, 50), 0, 90, 180, new Scalar(255, 255, 0), 2);\n",
    "\n",
    "// 내부가 채워지지 않은 다각형 그리기\n",
    "List<List<Point>> pts1 = new List<List<Point>>();\n",
    "List<Point> pt1 = new List<Point>(){\n",
    "    new Point(100, 500),\n",
    "    new Point(300, 500),\n",
    "    new Point(200, 600)\n",
    "};\n",
    "List<Point> pt2 = new List<Point>(){\n",
    "    new Point(400, 500),\n",
    "    new Point(500, 500),\n",
    "    new Point(600, 700),\n",
    "    new Point(500, 650)\n",
    "};\n",
    "\n",
    "pts1.Add(pt1);\n",
    "pts1.Add(pt2);\n",
    "Cv2.Polylines(img, pts1, true, new Scalar(0, 255, 255), 2);\n",
    "\n",
    "// 내부가 채워진 다각형 그리기\n",
    "Point[] pt3 = new Point[] {\n",
    "    new Point(700, 500),\n",
    "    new Point(800, 500),\n",
    "    new Point(700, 600)\n",
    "};\n",
    "\n",
    "Point[][] pts2 = new Point[][] { pt3 };\n",
    "Cv2.FillPoly(img, pts2, new Scalar(255, 0, 255), LineTypes.AntiAlias);\n",
    "\n",
    "// 문자 그리기\n",
    "Cv2.PutText(img, \"Hello, OpenCV\", new Point(800, 600), HersheyFonts.HersheyComplex | HersheyFonts.Italic, 2.0, new Scalar(255, 255, 255), 3);\n",
    "\n",
    "// Display\n",
    "Cv2.ImShow(\"img\", img);\n",
    "Cv2.WaitKey(0);\n",
    "Cv2.DestroyAllWindows();"
   ]
  },
  {
   "cell_type": "markdown",
   "metadata": {},
   "source": [
    "### # 마우스 콜백\n",
    "\n",
    "- `콜백(Callback)` 함수란 프로그래밍에서 다른 함수를 매개 변수로 받아 이벤트가 발생할 때 해당 함수를 호출하는 역할\n",
    "    - 이벤트가 발생하면 특정 작동을 실행하거나 처리 가능\n",
    "- OpenCV에서는 HighGUI를 활용하기 때문에 `마우스 이벤트를 받아 상호작용` 가능\n",
    "- 즉 `마우스 콜백(Mouse Callback)`이란 윈도에서 마우스 이벤트가 발생할 때, 미리 정의한 콜백 함수를 호출해 해당 이벤트를 처리하\n",
    "    - 이미지나 비디오와 같은 미디어 데이터에 대한 상호작용을 구현하는데 활용"
   ]
  },
  {
   "cell_type": "markdown",
   "metadata": {},
   "source": [
    "- `마우스 콜백 설정 함수`\n",
    "    - ```csharp\n",
    "      Cv2.SetMouseCallback(\n",
    "         string windowName,\n",
    "         MouseCallback onMouse,\n",
    "         IntPtr userdata = default\n",
    "      );\n",
    "      ```\n",
    "    - 사전에 정의된 `윈도 이름(windowName)`에 마우스 콜백을 설정하고, `콜백 함수(onMouse)`를 전달\n",
    "    - 마우스 이벤트 관련 데이터 이외에도 `사용자 데이터(userdata)`를 콜백 함수에 전달 가능\n",
    "      - 주로 윈도에 부착된 이미지를 전달\n",
    "   - 마우스에 관련된 정보(`마우스 콜백 델리게게이트`)\n",
    "      - ```csharp\n",
    "        CvMouseCallback(\n",
    "         MouseEventTypes @event,\n",
    "         int x,\n",
    "         int y,\n",
    "         MouseEventFlags flags,\n",
    "         IntPtr userdata\n",
    "        );\n",
    "        ```"
   ]
  },
  {
   "cell_type": "code",
   "execution_count": null,
   "metadata": {
    "vscode": {
     "languageId": "polyglot-notebook"
    }
   },
   "outputs": [],
   "source": [
    "Mat src = new Mat(new Size(500, 500), MatType.CV_8UC3, new Scalar(255, 255, 255));\n",
    "\n",
    "Cv2.ImShow(\"draw\", src);\n",
    "MouseCallback mouseCallback = new MouseCallback(Event);\n",
    "Cv2.SetMouseCallback(\"draw\", mouseCallback, src.CvPtr);\n",
    "Cv2.WaitKey(0);\n",
    "Cv2.DestroyAllWindows();\n",
    "\n",
    "static void Event(MouseEventTypes @event, int x, int y, MouseEventFlags flags, IntPtr userdata) {\n",
    "\n",
    "    Mat data = Mat.FromNativePointer(userdata);\n",
    "\n",
    "    if(flags == MouseEventFlags.LButton) {\n",
    "        Cv2.Circle(data, new Point(x, y), 10, new Scalar(0, 0, 255), -1);\n",
    "        \n",
    "        Cv2.ImShow(\"draw\", data);\n",
    "    }\n",
    "}"
   ]
  },
  {
   "cell_type": "markdown",
   "metadata": {},
   "source": [
    "### # 트랙바\n",
    "\n",
    "- 일종의 슬라이더 바의 형태를 가지고 있으며, 일정 범위 내의 값을 변경할 때 사용\n",
    "    - 보통 메서드나 함수의 매개 변수가 인수값을 조절하면서 최적의 값을 찾기 위해 여러 번의 테스트를 진행\n",
    "    - 트랙바를 사용하면 사용자는 매개변수나 설정값을 실시간으로 조절하고 결과를 확인하며 최적의 설정값을 찾음\n",
    "- 어디에 활용되는가?\n",
    "    - 시뮬레이션  및 시각화 도구\n",
    "    - 시스템 작동을 조절하고 튜닝할 때\n",
    "- `트랙바 생성 함수`\n",
    "    - ```csharp\n",
    "      Cv2.CreateTrackbar(\n",
    "        string trackbarName,\n",
    "        string winName,\n",
    "        ref int value,\n",
    "        int count,\n",
    "        TrackbarCallbackNative onChange = null,\n",
    "        IntPtr userData = default\n",
    "      );\n",
    "      ```\n",
    "    - 트랙바를 생성하고 지정된 윈도에 부착해 사용\n",
    "    - 임의의 값을 입력하거나, 슬라이더를 직접 조작해 값을 변경\n",
    "    - `값(value)` : 트랙바의 초기 슬라이더 위치\n",
    "    - `최댓값(count)` : 트랙바의 최대 위치\n",
    "    - `콜백 함수(onChange)`\n",
    "        - 사용자 정의 함수나 익명함수 등을 정의\n",
    "        - 값(value)을 매개변수로 전달\n",
    "- `트랙바 위치 반환 함수`\n",
    "    - ```csharp\n",
    "      retval = Cv2.GetTracebarPos(\n",
    "        string trackbarName,\n",
    "        string winName\n",
    "      );\n",
    "      ```\n",
    "    - `위치 값(retval)` : 트랙바 생성 함수의 값(value)과 콜백 함수(onChange)에서 전달하는 값(value)과 동일"
   ]
  },
  {
   "cell_type": "code",
   "execution_count": null,
   "metadata": {
    "vscode": {
     "languageId": "polyglot-notebook"
    }
   },
   "outputs": [],
   "source": [
    "// 반복문을 사용하여 색상 변경을 업데이트트\n",
    "\n",
    "Cv2.NamedWindow(\"Palette\");\n",
    "Cv2.CreateTrackbar(\"Blue\", \"Palette\", 255);\n",
    "Cv2.CreateTrackbar(\"Green\", \"Palette\", 255);\n",
    "Cv2.CreateTrackbar(\"Red\", \"Palette\", 255);\n",
    "\n",
    "\n",
    "while(true) {\n",
    "    int bluePixel = Cv2.GetTrackbarPos(\"Blue\", \"Palette\");\n",
    "    int greenPixel = Cv2.GetTrackbarPos(\"Green\", \"Palette\");\n",
    "    int redPixel = Cv2.GetTrackbarPos(\"Red\", \"Palette\");\n",
    "\n",
    "    Mat src = new Mat(new Size(500, 500), MatType.CV_8UC3, new Scalar(bluePixel, greenPixel, redPixel));\n",
    "\n",
    "    Cv2.ImShow(\"Palette\", src);\n",
    "    if(Cv2.WaitKey(33) == 'q') break;\n",
    "}\n",
    "\n",
    "Cv2.DestroyAllWindows()"
   ]
  },
  {
   "cell_type": "markdown",
   "metadata": {},
   "source": [
    "- `트랙바 콜백 델리게이트`\n",
    "    - ```csharp\n",
    "      TrackbarCallbackNative(\n",
    "        int pos,\n",
    "        IntPtr userData\n",
    "      );\n",
    "      ```\n",
    "    - C# OpenCvSharp에서는 트랙바에 콜백 함수를 사용할 때 델리게이트를 활용해 전달\n",
    "    - 즉 콜백 함수를 사용할 때는 함수를 정의한 다음, 델리게이트 메서드로 연결해야 함\n",
    "    - 전역 변수를 선언할 필요 없이 `사용자 데이터(userData)`를 통해서 함수 밖의 변수를 가져와 트랙바 이벤트를 처리하는 것이 가능\n",
    "        - 트랙바의 슬라이더 위치 값 이외에도 int, string, Mat 데이터 등을 콜백 함수에 전달"
   ]
  },
  {
   "cell_type": "code",
   "execution_count": null,
   "metadata": {
    "vscode": {
     "languageId": "polyglot-notebook"
    }
   },
   "outputs": [],
   "source": [
    "// 콜백 함수를 사용하여 색상 변경을 업데이트\n",
    "\n",
    "Mat src = new Mat(new Size(500,500), MatType.CV_8UC3);\n",
    "TrackbarCallbackNative trackbarCallback = new TrackbarCallbackNative(Event);\n",
    "\n",
    "Cv2.NamedWindow(\"Palette\");\n",
    "Cv2.CreateTrackbar(\"Color\", \"Palette\", 255, trackbarCallback, src.CvPtr);\n",
    "Cv2.WaitKey(0);\n",
    "Cv2.DestroyAllWindows();\n",
    "\n",
    "static void Event(int pos, IntPtr userdata) {\n",
    "    Mat color = Mat.FromNativePointer(userdata);\n",
    "    color.SetTo(new Scalar(pos, pos, pos));\n",
    "    Cv2.ImShow(\"Palette\", color);\n",
    "}"
   ]
  },
  {
   "cell_type": "markdown",
   "metadata": {},
   "source": [
    "### # 참고\n",
    "- [Drawing Functions](https://docs.opencv.org/4.5.5/d6/d6e/group__imgproc__draw.html#ga28b2267d35786f5f890ca167236cbc69)"
   ]
  }
 ],
 "metadata": {
  "kernelspec": {
   "display_name": ".NET (C#)",
   "language": "C#",
   "name": ".net-csharp"
  },
  "language_info": {
   "name": "python"
  },
  "polyglot_notebook": {
   "kernelInfo": {
    "defaultKernelName": "csharp",
    "items": [
     {
      "aliases": [],
      "name": "csharp"
     }
    ]
   }
  }
 },
 "nbformat": 4,
 "nbformat_minor": 2
}
