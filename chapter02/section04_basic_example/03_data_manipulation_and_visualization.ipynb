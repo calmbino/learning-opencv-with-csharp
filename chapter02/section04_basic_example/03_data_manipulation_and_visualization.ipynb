{
 "cells": [
  {
   "cell_type": "markdown",
   "metadata": {},
   "source": [
    "# 03) 데이터 조작 및 시각화"
   ]
  },
  {
   "cell_type": "code",
   "execution_count": 1,
   "metadata": {
    "dotnet_interactive": {
     "language": "csharp"
    },
    "polyglot_notebook": {
     "kernelName": "csharp"
    },
    "vscode": {
     "languageId": "polyglot-notebook"
    }
   },
   "outputs": [
    {
     "data": {
      "text/html": [
       "<div><div></div><div></div><div><strong>Installed Packages</strong><ul><li><span>OpenCvSharp4, 4.10.0.20241108</span></li><li><span>OpenCvSharp4.runtime.win, 4.10.0.20241108</span></li></ul></div></div>"
      ]
     },
     "metadata": {},
     "output_type": "display_data"
    }
   ],
   "source": [
    "#r \"nuget: OpenCvSharp4\"\n",
    "#r \"nuget: OpenCvSharp4.runtime.win\"\n",
    "\n",
    "using OpenCvSharp;"
   ]
  },
  {
   "cell_type": "markdown",
   "metadata": {},
   "source": [
    "### # 이미지 연결\n",
    "\n",
    "- 여러 다른 이미지를 결합해 하나의 통합 이미지를 생성하는 기술\n",
    "- 사용 목적\n",
    "    - 서로 다른 이미지를 합쳐서 하나의 이미를 생성\n",
    "    - 알고리즘이 적용되기 전과 후의 이미지를 상호 비교\n",
    "- 이미지를 연결하기 위한 조건\n",
    "    - 동일한 `채널 수`와 `정밀도`\n",
    "    - 동일한 이미지 `크기`\n",
    "\n",
    "- ```csharp\n",
    "  Cv2.HConcat(Mat[] src, Mat dst) // 수평 이미지 연결 함수\n",
    "  Cv2.VConcat(Mat[] src, Mat dst) // 수직 이미지 연결 함수\n",
    "  ```\n",
    "    - `src`: 입력 이미지\n",
    "        - **수평** 이미지 연결 함수는 입력된 이미지들이 **동일한 행(높이)** 을 가져야 함\n",
    "        - **수직** 이미지 연결 함수는 입력된 이미지들이 **동일한 열(너비)** 를 가져야 함\n",
    "    - `dst`: 출력 이미지지\n",
    "        - 원본 이미지와 동일한 채널 수, 정밀도를 유지\n",
    "        - 원본 이미지들의 행 또는 열의 합계를 가지는 이미지\n",
    "\n"
   ]
  },
  {
   "cell_type": "code",
   "execution_count": null,
   "metadata": {
    "vscode": {
     "languageId": "polyglot-notebook"
    }
   },
   "outputs": [],
   "source": [
    "Mat one = new Mat(\"../../media/one.jpg\");\n",
    "Mat two = new Mat(\"../../media/two.jpg\");\n",
    "Mat three = new Mat(\"../../media/three.jpg\");\n",
    "Mat four = new Mat(\"../../media/four.jpg\");\n",
    "\n",
    "Mat left = new Mat();\n",
    "Mat right = new Mat();\n",
    "Mat dst = new Mat();\n",
    "\n",
    "Cv2.VConcat(new Mat[] { one, three }, left);\n",
    "Cv2.VConcat(new Mat[] { two, four }, right);\n",
    "Cv2.HConcat(new Mat[] { left, right }, dst);\n",
    "\n",
    "Cv2.NamedWindow(\"dst\", WindowFlags.KeepRatio);\n",
    "Cv2.ImShow(\"dst\", dst);\n",
    "Cv2.WaitKey(0);\n",
    "Cv2.DestroyAllWindows();"
   ]
  },
  {
   "cell_type": "markdown",
   "metadata": {},
   "source": [
    "### # 도형 그리기\n",
    "\n",
    "- 영상이나 이미지에 그래픽 요소를 그려 넣는 프로세스\n",
    "    - 주로 검출 결과를 시각적으로 `표시`하거나 `강조`하는 데 사용\n",
    "    - 이미지상에 검출된 결과를 `수정`하거나 `보정`\n",
    "- 이미지상에 다양한 도형을 그리는 것이 가능\n",
    "    - 이미지가 아닌 배열이어도 가능\n",
    "- 도형이나 선 등을 그릴 때 위치, 두께, 색상과 같은 속성 제어 가능\n",
    "    - 선형 타입 및 비트 시프트와 같은 보다 디테일한 속성도 존재\n",
    "        - 그래픽 요소의 스타일 및 시각적인 효과를 조정하는데 사용용\n",
    "        - `선형 타입`\n",
    "            - 도형을 그릴 때 **어떤 유형의 선**으로 그릴 것인가?\n",
    "                - `브레젠험 알고리즘(Bresenham's Algorithm)`\n",
    "                    - 컴퓨터 그래픽 분야에서 개발된 최초의 알고리즘 중 하나\n",
    "                    - 실수 연산이 아닌 정수 연산으로 대체하기 위한 알고리즘\n",
    "                        - 이미지는 정숫값의 좌표로 구성된 픽셀 행렬로 표현되기 때문에 필요\n",
    "                    - \"4-연결\"\n",
    "                        - 상 || 하 || 좌 || 우 픽셀 배치 고려\n",
    "                    - \"8-연결'\n",
    "                        - 대각선 방향까지 고려\n",
    "                - `안티 에일리어싱(Anti-Aliasing)`\n",
    "                    - 높은 해상도의 신호를 낮은 해상도에서 표현할 때 발생하는 `계단 현상을 제거하는 기법`\n",
    "                    - 주고 가우스 필터링을 사용\n",
    "                    - 시각적으로 부드러운 가장자리 또는 경계를 얻음\n",
    "                - 내부 채우기 방식\n",
    "        - `비트 시프트`\n",
    "            - 소수점 이하의 값이 포함된 **실수 좌표를 사용**\n",
    "                일반적으로 도형 그리기 함수에서 사용되는 좌표값은 정수로 표현현\n",
    "            - `서브 픽셀`\n",
    "                - 픽셀 내에서 더 작은 공간을 나누어 소수점 이하의 값을 표현\n",
    "            - `오른쪽 시프트 연산`을 사용!\n",
    "                - $$\n",
    "                  0100_2 \\gg 1 = 0010_2\n",
    "                  $$"
   ]
  },
  {
   "cell_type": "markdown",
   "metadata": {},
   "source": [
    "- `직선 그리기`\n",
    "    - 이미지나 영상 위에 단순한 선을 그리는데 사용\n",
    "    - 어디에 활용되는가?\n",
    "        - 두 점을 연결해 그림자, 경계, 객체 윤곽 등을 표시\n",
    "        - 이미지의 특정 영역을 보정\n",
    "    - ```csharp\n",
    "      Cv2.Line(\n",
    "        Mat img,\n",
    "        Point pt1\n",
    "        Point pt2\n",
    "        Scalar color\n",
    "        int thickness = 1,\n",
    "        LineType lineType = LineTypes.Link8,\n",
    "        int shift = 0\n",
    "      )\n",
    "      ```\n",
    "        - 이미지 위에 `시작 좌표(pt1)부터 도착 좌표(pt2)`까지의 직선\n",
    "        - 색상은 BGR 형식\n",
    "        - `shift`는 실수값으로 처리할 좌표(pt)의 비트 값을 할당\n",
    "        - 포인트 구조체가 아닌 정수형을 활용하는 것도 가능\n",
    "            - ex) int pt1X, int pt1Y, int pt2X, int pt2Y   "
   ]
  },
  {
   "cell_type": "markdown",
   "metadata": {},
   "source": [
    "- `사각형 그리기`\n",
    "    - 이미지나 영상 위에 단순한 사각형을 그리는데 사용\n",
    "    - 어디에 활용되는가?\n",
    "        - 관심 영역이나 검출된 결과를 사용자가 인식하기 쉽게 시각적으로 표시\n",
    "    - ```csharp\n",
    "      Cv2.Rectangle(\n",
    "        Mat img,\n",
    "        Point pt1\n",
    "        Point pt2\n",
    "        Scalar color\n",
    "        int thickness = 1,\n",
    "        LineType lineType = LineTypes.Link8,\n",
    "        int shift = 0\n",
    "      )\n",
    "      ```\n",
    "        - 이미지 위에 `좌측 상단 모서리 좌표(pt1)부터 우측 하단 모서리 좌표(pt2)`까지의 직사각형\n",
    "        - 색상은 BGR 형식\n",
    "        - 포인트 구조체가 아닌 직사각형 구조체를 활용하는 것도 가능\n",
    "            - ex) Rect rect"
   ]
  },
  {
   "cell_type": "markdown",
   "metadata": {},
   "source": []
  }
 ],
 "metadata": {
  "kernelspec": {
   "display_name": ".NET (C#)",
   "language": "C#",
   "name": ".net-csharp"
  },
  "language_info": {
   "name": "python"
  },
  "polyglot_notebook": {
   "kernelInfo": {
    "defaultKernelName": "csharp",
    "items": [
     {
      "aliases": [],
      "name": "csharp"
     }
    ]
   }
  }
 },
 "nbformat": 4,
 "nbformat_minor": 2
}
