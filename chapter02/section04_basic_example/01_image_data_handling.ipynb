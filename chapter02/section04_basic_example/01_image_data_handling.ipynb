{
 "cells": [
  {
   "cell_type": "markdown",
   "metadata": {},
   "source": [
    "# 01) 이미지 데이터 다루기"
   ]
  },
  {
   "cell_type": "code",
   "execution_count": null,
   "metadata": {
    "dotnet_interactive": {
     "language": "csharp"
    },
    "polyglot_notebook": {
     "kernelName": "csharp"
    },
    "vscode": {
     "languageId": "polyglot-notebook"
    }
   },
   "outputs": [],
   "source": [
    "#r \"nuget: OpenCvSharp4\"\n",
    "#r \"nuget: OpenCvSharp4.runtime.win\"\n",
    "\n",
    "using OpenCvSharp;"
   ]
  },
  {
   "cell_type": "markdown",
   "metadata": {},
   "source": [
    "### # 이미지 로드\n",
    "\n",
    "```csharp\n",
    "Cv2.ImRead(string fileName, ImreadModes flags)\n",
    "```\n",
    "- `filename`: 이미지 파일의 경로 이름\n",
    "- `flag`: 입력된 이미지 파일을 어떻게 처리할지 결정\n",
    "    - default는 8비트 3채널(BGR) 이미지 (= `MatType.8UC3`)\n",
    "- 이미지 파일이 실제로 존재하지 않아도 __오류가 발생하지 않음__\n",
    "    - 0*0*CV_8UCI 형식의 Mat 데이터를 반환\n",
    "- 해당 함수는 운영체제의 코덱을 활용해 이미지 파일을 로드\n",
    "    - 그러므로 운영체제마다 이미지의 픽셀 값이 약간 다를 스 있음ㄹ\n",
    "    - 그레이스케일을 적용하는 flag를 적용한다면 운영체제의 코덱을 활용하여 그레이스케일 변환을 수행\n",
    "        - 추후에 학습할 OpenCV의 그레이스케일 변환과는 결괏값이 다를 수 있음"
   ]
  },
  {
   "cell_type": "code",
   "execution_count": null,
   "metadata": {
    "dotnet_interactive": {
     "language": "csharp"
    },
    "polyglot_notebook": {
     "kernelName": "csharp"
    },
    "vscode": {
     "languageId": "polyglot-notebook"
    }
   },
   "outputs": [],
   "source": [
    "Mat src = Cv2.ImRead(\"../../media/cat.jpg\", ImreadModes.ReducedColor2); // 크기를 1/2로 줄임\n",
    "\n",
    "src"
   ]
  },
  {
   "cell_type": "markdown",
   "metadata": {},
   "source": [
    "### # 이미지 출력\n",
    "```csharp\n",
    "Cv2.NamedWindows(string winname, WindowFlags flag)\n",
    "```\n",
    "- 화면에 이미지를 표시할 수 있는 윈도를 생성하는 함수\n",
    "- `winname`: 생성하려는 윈도의 이름\n",
    "    - 윈도를 식별하기 위한 고유값\n",
    "    - 특정 윈도에 접근하여 속성을 변경할 수 있음\n",
    "- `flag`: 윈도의 속성을 설정\n",
    "    - 윈도의 형태 및 동작을 조절\n",
    "        - ex) 윈도 크기를 조절하거나 최대화 여부 등을 설정\n",
    "\n",
    "```csharp\n",
    "Cv2.SetWindowProperty(string winname, WindowPropertyFlags propId, int propValue)\n",
    "```\n",
    "- 지정된 위도의 속성을 설정하는 함수\n",
    "- `winname`: 속성을 변경하려는 윈도의 이름\n",
    "- `propId`: 윈도 속성\n",
    "- `propValue`: 윈도 속성값\n",
    "- ex) 윈도 속성이 `Fullscreen`일 때, 속성값이 `0`이면 `WINDOW_NORMAL(일반 화면 모드)`로 전환하며, 속성값이 `1`일 때는 윈도를 `WINDOW_FULLSCREEN(전체 화면 모드)`로 전환\n",
    "\n",
    "```csharp\n",
    "Cv2.ImShow(string winname, Mat mat)\n",
    "```\n",
    "- 윈도에 이미지를 출력\n",
    "- `winname`: 윈도 이름\n",
    "    - 이전에 선언된 윈도가 없다면, 새로운 윈도를 생성하여 출력\n",
    "- `mat`: 이미지 데이터\n",
    "- OpenCV의 HighGUI 라이브러리를 활용\n",
    "    - 컴퓨터 비전 및 이미지 처리 애플리케이션을 개발하고 디버깅하기 위한 라이브러리\n",
    "- 이미지와 비디오를 출력\n",
    "    - 이미지 처리 및 분석 작업 중간 결과물을 실시간으로 확인\n",
    "\n",
    "```csharp\n",
    "Cv2.WaitKey(int delay)\n",
    "```\n",
    "- 프로그램을 지정된 시간 동안 키 입력이 있을 때까지 프로그램을 지연\n",
    "- `delay`: 대기 시간(단위: ms)\n",
    "    - 지정된 시간동안 키 입력을 기다리며, 지정된 시간 동안 키 입력이 없으면 다음 구문을 실행\n",
    "    - 대기 시간이 `0` 또는 `음수`이면, 키 입력이 있을 때까지 무한히 대기\n",
    "\n",
    "```csharp\n",
    "Cv2.DestroyWindow(string winname)\n",
    "```\n",
    "- 특정 윈도를 닫고 관련된 메모리 소스를 해제\n",
    "- OpenCV의 GUI 창은 프로세스 종료 후에도 남아 있을 수 있기 때문에 반드시 호출하여 메모리 리소스를 해제"
   ]
  },
  {
   "cell_type": "code",
   "execution_count": null,
   "metadata": {
    "dotnet_interactive": {
     "language": "csharp"
    },
    "polyglot_notebook": {
     "kernelName": "csharp"
    },
    "vscode": {
     "languageId": "polyglot-notebook"
    }
   },
   "outputs": [],
   "source": [
    "Cv2.NamedWindow(\"src\", WindowFlags.GuiExpanded);\n",
    "Cv2.SetWindowProperty(\"src\", WindowPropertyFlags.Fullscreen, 0);\n",
    "Cv2.ImShow(\"src\", src);\n",
    "Cv2.WaitKey(0);\n",
    "// Cv2.DestroyWindow(\"src\");\n",
    "Cv2.DestroyAllWindows();"
   ]
  },
  {
   "cell_type": "markdown",
   "metadata": {},
   "source": [
    "### # 참고\n",
    "- [HighGUI](https://docs.opencv.org/4.x/d7/dfc/group__highgui.html#ga453d42fe4cb60e5723281a89973ee563)\n",
    "- [WindowFlags](https://shimat.github.io/opencvsharp/api/OpenCvSharp.WindowFlags.html)\n",
    "- [WindowPropertyFlags](https://shimat.github.io/opencvsharp/api/OpenCvSharp.WindowPropertyFlags.html)"
   ]
  }
 ],
 "metadata": {
  "kernelspec": {
   "display_name": ".NET (C#)",
   "language": "C#",
   "name": ".net-csharp"
  },
  "language_info": {
   "name": "C#"
  },
  "polyglot_notebook": {
   "kernelInfo": {
    "defaultKernelName": "csharp",
    "items": [
     {
      "aliases": [],
      "name": "csharp"
     }
    ]
   }
  }
 },
 "nbformat": 4,
 "nbformat_minor": 2
}
