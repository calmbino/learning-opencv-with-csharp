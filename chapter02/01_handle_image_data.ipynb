{
 "cells": [
  {
   "cell_type": "code",
   "execution_count": 1,
   "metadata": {
    "dotnet_interactive": {
     "language": "csharp"
    },
    "polyglot_notebook": {
     "kernelName": "csharp"
    },
    "vscode": {
     "languageId": "polyglot-notebook"
    }
   },
   "outputs": [
    {
     "data": {
      "text/html": [
       "<div><div></div><div></div><div><strong>Installed Packages</strong><ul><li><span>OpenCvSharp4, 4.10.0.20241108</span></li><li><span>OpenCvSharp4.runtime.win, 4.10.0.20241108</span></li></ul></div></div>"
      ]
     },
     "metadata": {},
     "output_type": "display_data"
    }
   ],
   "source": [
    "#r \"nuget: OpenCvSharp4\"\n",
    "#r \"nuget: OpenCvSharp4.runtime.win\"\n",
    "\n",
    "\n",
    "using OpenCvSharp;"
   ]
  },
  {
   "cell_type": "code",
   "execution_count": null,
   "metadata": {
    "vscode": {
     "languageId": "polyglot-notebook"
    }
   },
   "outputs": [
    {
     "ename": "Error",
     "evalue": "OpenCvSharp.OpenCVException: size.width>0 && size.height>0\r\n   at OpenCvSharp.Internal.NativeMethods.<>c.<.cctor>b__1687_0(ErrorCode status, String funcName, String errMsg, String fileName, Int32 line, IntPtr userData)\r\n   at OpenCvSharp.Internal.NativeMethods.highgui_imshow(String winName, IntPtr mat)\r\n   at OpenCvSharp.Cv2.ImShow(String winName, Mat mat)\r\n   at Submission#3.<<Initialize>>d__0.MoveNext()\r\n--- End of stack trace from previous location ---\r\n   at Microsoft.CodeAnalysis.Scripting.ScriptExecutionState.RunSubmissionsAsync[TResult](ImmutableArray`1 precedingExecutors, Func`2 currentExecutor, StrongBox`1 exceptionHolderOpt, Func`2 catchExceptionOpt, CancellationToken cancellationToken)",
     "output_type": "error",
     "traceback": [
      "OpenCvSharp.OpenCVException: size.width>0 && size.height>0\r\n",
      "   at OpenCvSharp.Internal.NativeMethods.<>c.<.cctor>b__1687_0(ErrorCode status, String funcName, String errMsg, String fileName, Int32 line, IntPtr userData)\r\n",
      "   at OpenCvSharp.Internal.NativeMethods.highgui_imshow(String winName, IntPtr mat)\r\n",
      "   at OpenCvSharp.Cv2.ImShow(String winName, Mat mat)\r\n",
      "   at Submission#3.<<Initialize>>d__0.MoveNext()\r\n",
      "--- End of stack trace from previous location ---\r\n",
      "   at Microsoft.CodeAnalysis.Scripting.ScriptExecutionState.RunSubmissionsAsync[TResult](ImmutableArray`1 precedingExecutors, Func`2 currentExecutor, StrongBox`1 exceptionHolderOpt, Func`2 catchExceptionOpt, CancellationToken cancellationToken)"
     ]
    }
   ],
   "source": [
    "Mat src = Cv2.ImRead(\"../media/cat.jpg\", ImreadModes.ReducedColor2);\n",
    "\n",
    "Cv2.NamedWindow(\"src\", WindowFlags.KeepRatio);\n",
    "// Cv2.SetWindowProperty(\"src\", WindowProperty Flags.AutoSize, 0);\n",
    "Cv2.ImShow(\"src\", src);\n",
    "Cv2.WaitKey(0);\n",
    "Cv2.DestroyAllWindows();"
   ]
  },
  {
   "cell_type": "code",
   "execution_count": null,
   "metadata": {
    "dotnet_interactive": {
     "language": "csharp"
    },
    "polyglot_notebook": {
     "kernelName": "csharp"
    },
    "vscode": {
     "languageId": "polyglot-notebook"
    }
   },
   "outputs": [],
   "source": []
  }
 ],
 "metadata": {
  "kernelspec": {
   "display_name": ".NET (C#)",
   "language": "C#",
   "name": ".net-csharp"
  },
  "language_info": {
   "name": "python"
  },
  "polyglot_notebook": {
   "kernelInfo": {
    "defaultKernelName": "csharp",
    "items": [
     {
      "aliases": [],
      "name": "csharp"
     }
    ]
   }
  }
 },
 "nbformat": 4,
 "nbformat_minor": 2
}
