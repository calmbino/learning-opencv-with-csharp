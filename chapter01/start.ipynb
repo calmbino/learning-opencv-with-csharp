{
 "cells": [
  {
   "cell_type": "code",
   "execution_count": 16,
   "metadata": {
    "dotnet_interactive": {
     "language": "csharp"
    },
    "polyglot_notebook": {
     "kernelName": "csharp"
    },
    "vscode": {
     "languageId": "polyglot-notebook"
    }
   },
   "outputs": [
    {
     "data": {
      "text/html": [
       "<div><div></div><div></div><div><strong>Installed Packages</strong><ul><li><span>NumpyDotNet, 0.9.86.6</span></li><li><span>OpenCvSharp4, 4.10.0.20241108</span></li><li><span>OpenCvSharp4.runtime.win, 4.10.0.20241108</span></li></ul></div></div>"
      ]
     },
     "metadata": {},
     "output_type": "display_data"
    }
   ],
   "source": [
    "#r \"nuget: OpenCvSharp4\"\n",
    "#r \"nuget: OpenCvSharp4.runtime.win\"\n",
    "#r \"nuget: NumpyDotNet\"\n",
    "\n",
    "using OpenCvSharp;\n",
    "using NumpyDotNet;"
   ]
  },
  {
   "cell_type": "code",
   "execution_count": null,
   "metadata": {
    "dotnet_interactive": {
     "language": "csharp"
    },
    "polyglot_notebook": {
     "kernelName": "csharp"
    },
    "vscode": {
     "languageId": "polyglot-notebook"
    }
   },
   "outputs": [],
   "source": [
    "VideoCapture capture = new VideoCapture(0);\n",
    "Mat frame = new Mat(640, 480, MatType.CV_8UC1);\n",
    "\n",
    "capture.Set(VideoCaptureProperties.FrameWidth, 640);\n",
    "capture.Set(VideoCaptureProperties.FrameHeight, 480);\n",
    "\n",
    "while (true)\n",
    "{\n",
    "    if (capture.IsOpened() == true)\n",
    "    {\n",
    "        capture.Read(frame);\n",
    "        Cv2.ImShow(\"VideoFrame\", frame);\n",
    "        if (Cv2.WaitKey(33) == 'q')\n",
    "        {\n",
    "            break;\n",
    "        }\n",
    "    }\n",
    "}\n",
    "\n",
    "capture.Release();\n",
    "Cv2.DestroyAllWindows();"
   ]
  },
  {
   "cell_type": "code",
   "execution_count": null,
   "metadata": {
    "dotnet_interactive": {
     "language": "csharp"
    },
    "polyglot_notebook": {
     "kernelName": "csharp"
    },
    "vscode": {
     "languageId": "polyglot-notebook"
    }
   },
   "outputs": [],
   "source": [
    "Mat src = Cv2.ImRead(\"sample.jpg\");\n",
    "Mat gray = new Mat();\n",
    "Mat hist = new Mat();\n",
    "Mat result = Mat.Ones(new Size(256, src.Height), MatType.CV_8UC1);\n",
    "Mat dst = new Mat();\n",
    "\n",
    "Cv2.CvtColor(src, gray, ColorConversionCodes.BGR2GRAY);\n",
    "Cv2.CalcHist(new Mat[] { gray }, new int[] { 0 }, null, hist, 1, new int[] { 256 }, new Rangef[] { new Rangef(0, 256) });\n",
    "Cv2.Normalize(hist, hist, 0, 255, NormTypes.MinMax);\n",
    "\n",
    "for (int i = 0; i < hist.Rows; i++)\n",
    "{\n",
    "    Cv2.Line(result, new Point(i, src.Height), new Point(i, src.Height - hist.Get<float>(i)), Scalar.White);\n",
    "}\n",
    "\n",
    "Cv2.HConcat(new Mat[] { gray, result }, dst);\n",
    "Cv2.ImShow(\"dst\", dst);\n",
    "Cv2.WaitKey(0);\n",
    "Cv2.DestroyAllWindows();\n"
   ]
  },
  {
   "cell_type": "code",
   "execution_count": null,
   "metadata": {
    "dotnet_interactive": {
     "language": "csharp"
    },
    "polyglot_notebook": {
     "kernelName": "csharp"
    },
    "vscode": {
     "languageId": "polyglot-notebook"
    }
   },
   "outputs": [
    {
     "name": "stdout",
     "output_type": "stream",
     "text": [
      "Vec3d (1, 2, 3)\n",
      "Point3d { X = 1, Y = 2, Z = 3 }\n",
      "Point3d { X = 1, Y = 2, Z = 3 }\n",
      "1\n",
      "True\n"
     ]
    }
   ],
   "source": [
    "Vec3d Vector = new Vec3d(1.0, 2.0, 3.0);\n",
    "Point3d Pt1 = new Vec3d(1.0, 2.0, 3.0);\n",
    "Point3d Pt2 = Vector;\n",
    "\n",
    "Console.WriteLine(Vector);\n",
    "Console.WriteLine(Pt1);\n",
    "Console.WriteLine(Pt2);\n",
    "Console.WriteLine(Pt1.X);\n",
    "Console.WriteLine(Pt2.Equals(Vector));\n",
    "\n"
   ]
  },
  {
   "cell_type": "code",
   "execution_count": 11,
   "metadata": {
    "dotnet_interactive": {
     "language": "csharp"
    },
    "polyglot_notebook": {
     "kernelName": "csharp"
    },
    "vscode": {
     "languageId": "polyglot-notebook"
    }
   },
   "outputs": [
    {
     "name": "stdout",
     "output_type": "stream",
     "text": [
      "2\n",
      "7\n",
      "-4\n",
      "Point { X = 4, Y = 4 }\n",
      "Point { X = -2, Y = 0 }\n",
      "False\n",
      "Point { X = 0, Y = 1 }\n"
     ]
    }
   ],
   "source": [
    "Point Pt1 = new Point(1, 2);\n",
    "Point Pt2 = new Point(3, 2);\n",
    "\n",
    "Console.WriteLine(Pt1.DistanceTo(Pt2));\n",
    "Console.WriteLine(Pt1.DotProduct(Pt2)); // 내적\n",
    "Console.WriteLine(Pt1.CrossProduct(Pt2)); // 외적\n",
    "Console.WriteLine(Pt1 + Pt2);\n",
    "Console.WriteLine(Pt1 - Pt2);\n",
    "Console.WriteLine(Pt1 == Pt2);\n",
    "Console.WriteLine(Pt1 * 0.5);\n",
    "\n",
    "\n"
   ]
  },
  {
   "cell_type": "code",
   "execution_count": null,
   "metadata": {
    "dotnet_interactive": {
     "language": "csharp"
    },
    "polyglot_notebook": {
     "kernelName": "csharp"
    },
    "vscode": {
     "languageId": "polyglot-notebook"
    }
   },
   "outputs": [
    {
     "ename": "Error",
     "evalue": "(1,12): error CS0121: The call is ambiguous between the following methods or properties: 'np.array(byte[])' and 'np.array(sbyte[])'\r\n(2,12): error CS0121: The call is ambiguous between the following methods or properties: 'np.array(byte[])' and 'np.array(sbyte[])'",
     "output_type": "error",
     "traceback": [
      "(1,12): error CS0121: The call is ambiguous between the following methods or properties: 'np.array(byte[])' and 'np.array(sbyte[])'\r\n",
      "(2,12): error CS0121: The call is ambiguous between the following methods or properties: 'np.array(byte[])' and 'np.array(sbyte[])'"
     ]
    }
   ],
   "source": [
    "var A = np.array([2, 3]);\n",
    "var B = np.array([4, 1]);\n",
    "\n",
    "Console.WriteLine(A.dot(B));"
   ]
  },
  {
   "cell_type": "code",
   "execution_count": null,
   "metadata": {
    "dotnet_interactive": {
     "language": "csharp"
    },
    "polyglot_notebook": {
     "kernelName": "csharp"
    },
    "vscode": {
     "languageId": "polyglot-notebook"
    }
   },
   "outputs": [],
   "source": []
  }
 ],
 "metadata": {
  "kernelspec": {
   "display_name": ".NET (C#)",
   "language": "C#",
   "name": ".net-csharp"
  },
  "language_info": {
   "name": "python"
  },
  "polyglot_notebook": {
   "kernelInfo": {
    "defaultKernelName": "csharp",
    "items": [
     {
      "aliases": [],
      "name": "csharp"
     }
    ]
   }
  }
 },
 "nbformat": 4,
 "nbformat_minor": 2
}
