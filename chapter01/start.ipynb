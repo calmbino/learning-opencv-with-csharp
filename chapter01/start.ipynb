{
 "cells": [
  {
   "cell_type": "code",
   "execution_count": null,
   "metadata": {
    "dotnet_interactive": {
     "language": "csharp"
    },
    "polyglot_notebook": {
     "kernelName": "csharp"
    },
    "vscode": {
     "languageId": "polyglot-notebook"
    }
   },
   "outputs": [],
   "source": [
    "#r \"nuget: OpenCvSharp4\"\n",
    "#r \"nuget: OpenCvSharp4.runtime.win\"\n",
    "#r \"nuget: NumpyDotNet\"\n",
    "\n",
    "using OpenCvSharp;\n",
    "using NumpyDotNet;"
   ]
  },
  {
   "cell_type": "code",
   "execution_count": null,
   "metadata": {
    "dotnet_interactive": {
     "language": "csharp"
    },
    "polyglot_notebook": {
     "kernelName": "csharp"
    },
    "vscode": {
     "languageId": "polyglot-notebook"
    }
   },
   "outputs": [],
   "source": [
    "VideoCapture capture = new VideoCapture(0);\n",
    "Mat frame = new Mat(640, 480, MatType.CV_8UC1);\n",
    "\n",
    "capture.Set(VideoCaptureProperties.FrameWidth, 640);\n",
    "capture.Set(VideoCaptureProperties.FrameHeight, 480);\n",
    "\n",
    "while (true)\n",
    "{\n",
    "    if (capture.IsOpened() == true)\n",
    "    {\n",
    "        capture.Read(frame);\n",
    "        Cv2.ImShow(\"VideoFrame\", frame);\n",
    "        if (Cv2.WaitKey(33) == 'q')\n",
    "        {\n",
    "            break;\n",
    "        }\n",
    "    }\n",
    "}\n",
    "\n",
    "capture.Release();\n",
    "Cv2.DestroyAllWindows();"
   ]
  },
  {
   "cell_type": "code",
   "execution_count": null,
   "metadata": {
    "dotnet_interactive": {
     "language": "csharp"
    },
    "polyglot_notebook": {
     "kernelName": "csharp"
    },
    "vscode": {
     "languageId": "polyglot-notebook"
    }
   },
   "outputs": [],
   "source": [
    "Mat src = Cv2.ImRead(\"sample.jpg\");\n",
    "Mat gray = new Mat();\n",
    "Mat hist = new Mat();\n",
    "Mat result = Mat.Ones(new Size(256, src.Height), MatType.CV_8UC1);\n",
    "Mat dst = new Mat();\n",
    "\n",
    "Cv2.CvtColor(src, gray, ColorConversionCodes.BGR2GRAY);\n",
    "Cv2.CalcHist(new Mat[] { gray }, new int[] { 0 }, null, hist, 1, new int[] { 256 }, new Rangef[] { new Rangef(0, 256) });\n",
    "Cv2.Normalize(hist, hist, 0, 255, NormTypes.MinMax);\n",
    "\n",
    "for (int i = 0; i < hist.Rows; i++)\n",
    "{\n",
    "    Cv2.Line(result, new Point(i, src.Height), new Point(i, src.Height - hist.Get<float>(i)), Scalar.White);\n",
    "}\n",
    "\n",
    "Cv2.HConcat(new Mat[] { gray, result }, dst);\n",
    "Cv2.ImShow(\"dst\", dst);\n",
    "Cv2.WaitKey(0);\n",
    "Cv2.DestroyAllWindows();\n"
   ]
  },
  {
   "cell_type": "code",
   "execution_count": null,
   "metadata": {
    "dotnet_interactive": {
     "language": "csharp"
    },
    "polyglot_notebook": {
     "kernelName": "csharp"
    },
    "vscode": {
     "languageId": "polyglot-notebook"
    }
   },
   "outputs": [],
   "source": [
    "Vec3d Vector = new Vec3d(1.0, 2.0, 3.0);\n",
    "Point3d Pt1 = new Vec3d(1.0, 2.0, 3.0);\n",
    "Point3d Pt2 = Vector;\n",
    "\n",
    "Console.WriteLine(Vector);\n",
    "Console.WriteLine(Pt1);\n",
    "Console.WriteLine(Pt2);\n",
    "Console.WriteLine(Pt1.X);\n",
    "Console.WriteLine(Pt2.Equals(Vector));\n",
    "\n"
   ]
  },
  {
   "cell_type": "code",
   "execution_count": null,
   "metadata": {
    "dotnet_interactive": {
     "language": "csharp"
    },
    "polyglot_notebook": {
     "kernelName": "csharp"
    },
    "vscode": {
     "languageId": "polyglot-notebook"
    }
   },
   "outputs": [],
   "source": [
    "Point Pt1 = new Point(1, 2);\n",
    "Point Pt2 = new Point(3, 2);\n",
    "\n",
    "Console.WriteLine(Pt1.DistanceTo(Pt2));\n",
    "Console.WriteLine(Pt1.DotProduct(Pt2)); // 내적\n",
    "Console.WriteLine(Pt1.CrossProduct(Pt2)); // 외적\n",
    "Console.WriteLine(Pt1 + Pt2);\n",
    "Console.WriteLine(Pt1 - Pt2);\n",
    "Console.WriteLine(Pt1 == Pt2);\n",
    "Console.WriteLine(Pt1 * 0.5);\n",
    "\n",
    "\n"
   ]
  },
  {
   "cell_type": "code",
   "execution_count": null,
   "metadata": {
    "dotnet_interactive": {
     "language": "csharp"
    },
    "polyglot_notebook": {
     "kernelName": "csharp"
    },
    "vscode": {
     "languageId": "polyglot-notebook"
    }
   },
   "outputs": [],
   "source": [
    "var A = np.array([2, 3]);\n",
    "var B = np.array([4, 1]);\n",
    "\n",
    "Console.WriteLine(A.dot(B));"
   ]
  }
 ],
 "metadata": {
  "kernelspec": {
   "display_name": ".NET (C#)",
   "language": "C#",
   "name": ".net-csharp"
  },
  "language_info": {
   "name": "python"
  },
  "polyglot_notebook": {
   "kernelInfo": {
    "defaultKernelName": "csharp",
    "items": [
     {
      "aliases": [],
      "name": "csharp"
     }
    ]
   }
  }
 },
 "nbformat": 4,
 "nbformat_minor": 2
}
